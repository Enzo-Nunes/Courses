{
 "cells": [
  {
   "cell_type": "code",
   "execution_count": 1,
   "metadata": {},
   "outputs": [],
   "source": [
    "def bissexto(n):\n",
    "    if (n % 4 == 0 and n % 100 == 0 and n % 400 == 0):\n",
    "        return True\n",
    "    elif (n % 4 == 0 and n % 100 != 0):\n",
    "        return True\n",
    "    else:\n",
    "        return False\n",
    "\n",
    "def dias_mes(mes, ano):\n",
    "    if mes == \"fev\":\n",
    "        if bissexto(ano) == True:\n",
    "            return \"29\"\n",
    "        else:\n",
    "            return \"28\"\n",
    "    \n",
    "    meses_31 = (\"jan\", \"mar\", \"mai\", \"jul\", \"ago\", \"out\", \"dez\")\n",
    "    meses_30 = (\"abr\", \"jun\", \"set\", \"nov\")\n",
    "\n",
    "    if mes in meses_31:\n",
    "        return \"31\"\n",
    "    if mes in meses_30:\n",
    "        return \"30\"\n",
    "    else:\n",
    "        raise ValueError(\"Cadeia de caracteres inválida\")"
   ]
  }
 ],
 "metadata": {
  "kernelspec": {
   "display_name": "Python 3.10.7 64-bit (microsoft store)",
   "language": "python",
   "name": "python3"
  },
  "language_info": {
   "codemirror_mode": {
    "name": "ipython",
    "version": 3
   },
   "file_extension": ".py",
   "mimetype": "text/x-python",
   "name": "python",
   "nbconvert_exporter": "python",
   "pygments_lexer": "ipython3",
   "version": "3.12.5"
  },
  "orig_nbformat": 4,
  "vscode": {
   "interpreter": {
    "hash": "32623ca6d4857eacc0997917524f4c2329e28cd5f4d8f14dc7dd522706e088d5"
   }
  }
 },
 "nbformat": 4,
 "nbformat_minor": 2
}
