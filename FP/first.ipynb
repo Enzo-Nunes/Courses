{
 "cells": [
  {
   "cell_type": "code",
   "execution_count": null,
   "metadata": {},
   "outputs": [],
   "source": [
    "numero = eval(input(\"Número?\"))\n",
    "if numero % 2 == 0:\n",
    "    paridade = \"par\"\n",
    "else:\n",
    "    paridade = \"ímpar\"\n",
    "if numero >= 0:\n",
    "    sinal = \"positivo\"\n",
    "else:\n",
    "    sinal = \"negativo\"\n",
    "print(\"O número escolhido é\", paridade, \"e\", sinal, \"\\b.\")"
   ]
  },
  {
   "cell_type": "code",
   "execution_count": null,
   "metadata": {},
   "outputs": [],
   "source": [
    "print(\"Vou pedir-lhe dois números.\")\n",
    "\n",
    "num1 = eval(input(\"Escreve um número, x:\"))\n",
    "num2 = eval(input(\"Escreve outro número, y:\"))\n",
    "resultado = (num1 + 3 * num2) * (num1 - num2)\n",
    "\n",
    "print(\"O resultado de (x + 3 * y) * (x - y) é\", resultado)"
   ]
  },
  {
   "cell_type": "code",
   "execution_count": null,
   "metadata": {},
   "outputs": [],
   "source": [
    "print(\"Vou pedir-lhe tempo e distância para calcular a velocidade média.\")\n",
    "\n",
    "d = float(input(\"Indique o valor da distância, em kilómetros:\"))\n",
    "t = float(input(\"Indique o valor do tempo, em minutos:\"))\n",
    "\n",
    "vms = (d*1000)/(t*60)\n",
    "vkmh = d/(t/60)\n",
    "\n",
    "r = input(\"Quer a velocidade em m/s ou km/h?\")\n",
    "\n",
    "if r == \"m/s\":\n",
    "    print(\"A velocidade média é de\", vms)\n",
    "if r == \"km/h\":\n",
    "    print(\"A velocidade é de\", vkmh)"
   ]
  },
  {
   "cell_type": "code",
   "execution_count": null,
   "metadata": {},
   "outputs": [],
   "source": [
    "\n",
    "s = int(input(\"Escreva um número de segundos\"))\n",
    "d = s // (24*3600)\n",
    "s = s % (24*3600)\n",
    "h = s // 3600\n",
    "s = s % 3600\n",
    "m = s // 60\n",
    "s = s % 60\n",
    "print(d, \"dias,\", h, \"horas,\", m, \"minutos e\", s, \"segundos.\")"
   ]
  },
  {
   "cell_type": "code",
   "execution_count": null,
   "metadata": {},
   "outputs": [],
   "source": [
    "soma = 0\n",
    "x = abs(eval(input(\"escreva um número:\")))\n",
    "\n",
    "while x != 0:\n",
    "    digit = x % 10\n",
    "    soma = soma + digit\n",
    "    x = x // 10\n",
    "print(soma)"
   ]
  },
  {
   "cell_type": "code",
   "execution_count": null,
   "metadata": {},
   "outputs": [],
   "source": [
    "num = eval(input(\"escreva um inteiro\"))\n",
    "div = 2\n",
    "\n",
    "print(\"fatores primos:\")\n",
    "\n",
    "\n",
    "while num != 1:\n",
    "    if num % div == 0:\n",
    "        num = num//div\n",
    "        print(div)\n",
    "    else:\n",
    "        div = div + 1\n",
    "\n"
   ]
  },
  {
   "cell_type": "code",
   "execution_count": null,
   "metadata": {},
   "outputs": [],
   "source": [
    "count = 0\n",
    "num = eval(input(\"Escreva um número\"))\n",
    "\n",
    "while num > 1:\n",
    "    num = num/2\n",
    "    count = count + 1\n",
    "print(\"o número tem de ser dividido por 2\", count, \"vezes até ficar menor do que 1.\")\n",
    "\n"
   ]
  },
  {
   "cell_type": "code",
   "execution_count": null,
   "metadata": {},
   "outputs": [],
   "source": [
    "from math import sqrt\n",
    "\n",
    "a = float(input(\"Escreva o primeiro número:\"))\n",
    "b = float(input(\"Escreva o segundo número:\"))\n",
    "c = float(input(\"Escreva o terceiro número:\"))\n",
    "d = float(input(\"Escreva o quarto número:\"))\n",
    "e = float(input(\"Escreva o quinto número:\"))\n",
    "\n",
    "media = float((a+b+c+d+e)/5)\n",
    "erro = sqrt(((a-media)*(a-media) + (b-media)*(b-media) + (c-media)*(c-media) + (d-media)*(d-media)* + (e-media)*(e-media))/4)\n",
    "\n",
    "print(\"Média Aritmética:\", media)\n",
    "print(\"Erro padrão:\", erro)"
   ]
  },
  {
   "cell_type": "code",
   "execution_count": null,
   "metadata": {},
   "outputs": [],
   "source": [
    "soma = 0\n",
    "i = 1\n",
    "termo = 1\n",
    "\n",
    "x = eval(input(\"Escreva um valor para x:\"))\n",
    "n = eval(input(\"Escreva um valor para n:\"))\n",
    "\n",
    "while i <= n:\n",
    "    soma = soma + termo\n",
    "    termo = termo * (x/i)\n",
    "    i = i + 1\n",
    "print(soma)"
   ]
  },
  {
   "cell_type": "code",
   "execution_count": null,
   "metadata": {},
   "outputs": [],
   "source": [
    "y = eval(input(\"escreva um numero\"))\n",
    "init = 1\n",
    "prod = 1\n",
    "\n",
    "while init <= y:\n",
    "    prod = prod * init\n",
    "    init = init + 1\n",
    "print(prod)"
   ]
  },
  {
   "cell_type": "code",
   "execution_count": null,
   "metadata": {},
   "outputs": [],
   "source": [
    "num = abs(int(input(\"Escreva um número:\")))\n",
    "soma = 0\n",
    "\n",
    "while num != 0:\n",
    "    soma = soma + num % 10\n",
    "    num = num // 10\n",
    "print(soma)"
   ]
  },
  {
   "cell_type": "code",
   "execution_count": null,
   "metadata": {},
   "outputs": [],
   "source": [
    "n = eval(input(\"Escreva um inteiro\"))\n",
    "d = 1\n",
    "soma = 0\n",
    "\n",
    "while d < n:\n",
    "    if n % d == 0:\n",
    "        soma += 1\n",
    "    d += 2\n",
    "print(\"Número de divisores ímpares:\", soma)"
   ]
  },
  {
   "cell_type": "code",
   "execution_count": null,
   "metadata": {},
   "outputs": [],
   "source": [
    "print(tuple(12345))"
   ]
  },
  {
   "cell_type": "code",
   "execution_count": null,
   "metadata": {},
   "outputs": [],
   "source": [
    "def valor(q, j, count):\n",
    "\tif q <= 0 or j <= 0:\n",
    "\t\traise ValueError(\"Valor(es) inválido(s)\")\n",
    "\treturn q * (1 + j) ** count\n",
    "\n",
    "def duplicou(q, j):\n",
    "\tcount = 0\n",
    "\twhile valor(q, j, count) <= 2 * q:\n",
    "\t\tcount += 1\n",
    "\treturn count\n",
    "\n",
    "print(duplicou(100, 0.03))"
   ]
  },
  {
   "cell_type": "code",
   "execution_count": null,
   "metadata": {},
   "outputs": [],
   "source": [
    "def valor(q, j, count):\n",
    "\tif q <= 0 or j <= 0:\n",
    "\t\traise ValueError(\"Valor(es) inválido(s)\")\n",
    "\treturn q * (1 + j) ** count\n",
    "\n",
    "def duplicou(q, j):\n",
    "\tcount = 0\n",
    "\twhile True:\n",
    "\t\tif valor(q, j, count) >= 2 * q:\n",
    "\t\t\treturn count\n",
    "\t\tcount += 1\n",
    "\n",
    "print(duplicou(100, 0.03))"
   ]
  },
  {
   "cell_type": "code",
   "execution_count": 20,
   "metadata": {},
   "outputs": [
    {
     "name": "stdout",
     "output_type": "stream",
     "text": [
      "Combination with the biggest product: [2, 2, 3, 3, 3, 3, 3, 3, 3, 3, 3, 3, 3, 3, 3, 3, 3, 3, 3, 3, 3, 3, 3, 3]\n",
      "Product of the biggest product combination: 125524238436\n"
     ]
    }
   ],
   "source": [
    "def find_max_product_combination(target_sum, current_sum=0, start=1, path=[]):\n",
    "    if current_sum == target_sum:\n",
    "        yield path\n",
    "    elif current_sum < target_sum:\n",
    "        max_product = 0\n",
    "        max_path = []\n",
    "        \n",
    "        for i in range(start, target_sum - current_sum + 1):\n",
    "            # Calculate the product of the current combination\n",
    "            product = current_product(path + [i])\n",
    "            \n",
    "            if product > max_product:\n",
    "                max_product = product\n",
    "                max_path = path + [i]\n",
    "            \n",
    "            yield from find_max_product_combination(target_sum, current_sum + i, i, path + [i])\n",
    "        \n",
    "        # Yield the combination with the maximum product\n",
    "        if max_path:\n",
    "            yield max_path\n",
    "\n",
    "def current_product(lst):\n",
    "    product = 1\n",
    "    for num in lst:\n",
    "        product *= num\n",
    "    return product\n",
    "\n",
    "def generate_max_product_combination(target_sum):\n",
    "    max_product_combination = max(find_max_product_combination(target_sum), key=current_product)\n",
    "    return max_product_combination\n",
    "\n",
    "target_sum = 70\n",
    "max_product_combination = generate_max_product_combination(target_sum)\n",
    "\n",
    "print(\"Combination with the biggest product:\", max_product_combination)\n",
    "print(\"Product of the biggest product combination:\", current_product(max_product_combination))\n"
   ]
  }
 ],
 "metadata": {
  "kernelspec": {
   "display_name": "Python 3.10.7 64-bit (microsoft store)",
   "language": "python",
   "name": "python3"
  },
  "language_info": {
   "codemirror_mode": {
    "name": "ipython",
    "version": 3
   },
   "file_extension": ".py",
   "mimetype": "text/x-python",
   "name": "python",
   "nbconvert_exporter": "python",
   "pygments_lexer": "ipython3",
   "version": "3.11.6"
  },
  "orig_nbformat": 4,
  "vscode": {
   "interpreter": {
    "hash": "32623ca6d4857eacc0997917524f4c2329e28cd5f4d8f14dc7dd522706e088d5"
   }
  }
 },
 "nbformat": 4,
 "nbformat_minor": 2
}
